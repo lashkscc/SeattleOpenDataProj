{
 "cells": [
  {
   "cell_type": "markdown",
   "metadata": {},
   "source": [
    "## Data analytics assignment w/ Pandas and Socrata API\n",
    "\n",
    "<p>\n",
    "Point of the assingment is to demonstrate a technique or process from our course and apply it to some publicly available data set. While not a requirement for the assignment, we will also use this opportunity to utilize an API to retrieve the data which we will then filter and format into a useable form. (*We definitely aren't doing this extra work so I can have a reference document for the future. No way, that would be silly.*)\n",
    "\n",
    "In order to access data via the SODA API we import the Socrata module. The imported configs holds our app token so that it won't be publicly available when uploaded to github. You can learn how to generate your own app token [here](https://support.socrata.com/hc/en-us/articles/360015776014-API-Keys), for free. \n",
    "</p>"
   ]
  },
  {
   "cell_type": "code",
   "execution_count": 21,
   "metadata": {},
   "outputs": [],
   "source": [
    "import configs as cfg\n",
    "import pandas as pd\n",
    "import numpy as np\n",
    "import datetime as dt\n",
    "import scipy.stats as st\n",
    "from sodapy import Socrata"
   ]
  },
  {
   "cell_type": "markdown",
   "metadata": {},
   "source": [
    "To access our data, we need identifiers for our endpoint. Our domain is data.seattle.gov and the specific dataset we are pulling from, [Code Complaints and Violations](https://data.seattle.gov/Community/Code-Complaints-and-Violations/ez4a-iug7) is identified by ez4a-iug7.\n",
    "\n",
    "Using our token we build our client to query"
   ]
  },
  {
   "cell_type": "code",
   "execution_count": 3,
   "metadata": {},
   "outputs": [],
   "source": [
    "\n",
    "data_url =\"data.seattle.gov\"\n",
    "data_set=\"ez4a-iug7\"\n",
    "\n",
    "app_token = cfg.atoken\n",
    "client=Socrata(data_url,app_token)\n",
    "#client.timeout = 60\n"
   ]
  },
  {
   "cell_type": "markdown",
   "metadata": {},
   "source": [
    "Unfortunately, the dataset we are looking at is quite big and we can only query for 50,000 rows are less per query. First, we'll check for the size of our dataset and from there we will download in pieces using offset."
   ]
  },
  {
   "cell_type": "code",
   "execution_count": 5,
   "metadata": {},
   "outputs": [
    {
     "name": "stdout",
     "output_type": "stream",
     "text": [
      "[{'COUNT': '172149'}]\n"
     ]
    }
   ],
   "source": [
    "count = client.get(data_set, select=\"COUNT(*)\")\n",
    "print(count)"
   ]
  },
  {
   "cell_type": "markdown",
   "metadata": {},
   "source": [
    "With over 170,000 records we need to request multiple times, which we can do via offsets to increment through the database."
   ]
  },
  {
   "cell_type": "code",
   "execution_count": 6,
   "metadata": {},
   "outputs": [],
   "source": [
    "start = 0\n",
    "block = 5000\n",
    "results = []\n",
    "while start < int(count[0]['COUNT']):\n",
    "    results.extend(client.get(data_set, offset=start, limit=block))\n",
    "    start +=block\n",
    "    \n",
    "df = pd.DataFrame.from_records(results)\n",
    "\n",
    "df.to_csv(\"complaintsdata.csv\")\n"
   ]
  },
  {
   "cell_type": "code",
   "execution_count": 3,
   "metadata": {},
   "outputs": [],
   "source": [
    "df=pd.read_csv(\"complaintsdata.csv\")"
   ]
  },
  {
   "cell_type": "markdown",
   "metadata": {},
   "source": [
    "## The dataset\n",
    "\n",
    "<p>The dataset we've just pulled is a database of complaints filed the Seattle Depatment of Construction & Inspections. The data is really interesting because it contains all complaints filed by phone, online, and via the more recent \"Find it, Fix it\" app. Complaints can be varied from vendors using land improperly to elevators not working in buildings or potholes needing to be fixed. The data isn't curated into precise categories, as the categories may be user selected and thus not the most trustworthy, but that is dependent on the vagueness of reports. \n",
    "\n",
    "Besides inaccuracy due to the variety of user input, there are a few more caveats to using the database\n",
    "* The dataset holds records from as far back as 2003, but the \"Find it, Fix it\" app wasn't released until 2013, which can skew any statistical outcomes if we look at data over time. Unfortunately we don't have any user statistics or complaint demographics so there doesn't seem to be any nice way to normalize\n",
    "* The category of complaint isn't required to be set when making your submission, meaning if we try to find records pertaining to vegetation, we may have to filter records not only by the \"Weeds\" category, but also by descriptions that contain vegetation related words.\n",
    "* The dataset is indexed on each complaint, so we need to count the dataset if we want to analyze by individual dates.\n",
    "</p>\n",
    "\n",
    "### Goal\n",
    "\n",
    "<p>\n",
    "We have a massive dataset with lots of stuff we don't care about. For the purposes of this project, we want to transform the dataset into the following:\n",
    "\n",
    "* only reports that occur in a single calendar year, Jan 1 2021 to Dec 31 2021\n",
    "* only reports of weeds, vegetation, or moss\n",
    "* per day complaint counts for each day to look at trends\n",
    "</p>\n",
    "\n",
    "\n",
    "\n",
    "\n",
    "\n",
    "\n",
    "Now, we have just downloaded a massive amount of data, to the tune of an ~87 mb .CSV file. So, lets focus on filtering some of that info down, starting with their dates."
   ]
  },
  {
   "cell_type": "code",
   "execution_count": 4,
   "metadata": {},
   "outputs": [
    {
     "name": "stdout",
     "output_type": "stream",
     "text": [
      "['Unnamed: 0', 'recordnum', 'recordtype', 'recordtypemapped', 'recordtypedesc', 'description', 'opendate', 'inspectiondate', 'lastinspresult', 'statuscurrent', 'originaladdress1', 'originalcity', 'originalstate', 'originalzip', 'link', 'latitude', 'longitude', 'location1']\n",
      "172149\n"
     ]
    }
   ],
   "source": [
    "print(df.columns.tolist())\n",
    "print(len(df.index))"
   ]
  },
  {
   "cell_type": "code",
   "execution_count": 150,
   "metadata": {},
   "outputs": [
    {
     "data": {
      "text/plain": [
       "(12419, 18)"
      ]
     },
     "execution_count": 150,
     "metadata": {},
     "output_type": "execute_result"
    }
   ],
   "source": [
    "y20 = df[(df['opendate'] >= '2020-01-01') & (df['opendate'] < '2021-01-01')]\n",
    "y20.shape"
   ]
  },
  {
   "cell_type": "code",
   "execution_count": 151,
   "metadata": {},
   "outputs": [
    {
     "data": {
      "text/html": [
       "<div>\n",
       "<style scoped>\n",
       "    .dataframe tbody tr th:only-of-type {\n",
       "        vertical-align: middle;\n",
       "    }\n",
       "\n",
       "    .dataframe tbody tr th {\n",
       "        vertical-align: top;\n",
       "    }\n",
       "\n",
       "    .dataframe thead th {\n",
       "        text-align: right;\n",
       "    }\n",
       "</style>\n",
       "<table border=\"1\" class=\"dataframe\">\n",
       "  <thead>\n",
       "    <tr style=\"text-align: right;\">\n",
       "      <th></th>\n",
       "      <th>Unnamed: 0</th>\n",
       "      <th>recordnum</th>\n",
       "      <th>recordtype</th>\n",
       "      <th>recordtypemapped</th>\n",
       "      <th>recordtypedesc</th>\n",
       "      <th>description</th>\n",
       "      <th>opendate</th>\n",
       "      <th>inspectiondate</th>\n",
       "      <th>lastinspresult</th>\n",
       "      <th>statuscurrent</th>\n",
       "      <th>originaladdress1</th>\n",
       "      <th>originalcity</th>\n",
       "      <th>originalstate</th>\n",
       "      <th>originalzip</th>\n",
       "      <th>link</th>\n",
       "      <th>latitude</th>\n",
       "      <th>longitude</th>\n",
       "      <th>location1</th>\n",
       "    </tr>\n",
       "  </thead>\n",
       "  <tbody>\n",
       "    <tr>\n",
       "      <th>142748</th>\n",
       "      <td>142748</td>\n",
       "      <td>000101-20CP</td>\n",
       "      <td>Complaint</td>\n",
       "      <td>Request</td>\n",
       "      <td>Land Use</td>\n",
       "      <td>Continue to allow trash to build up on deck an...</td>\n",
       "      <td>2020-01-01</td>\n",
       "      <td>{'type': 'Point', 'coordinates': [-122.2906583...</td>\n",
       "      <td>Completed</td>\n",
       "      <td>Completed</td>\n",
       "      <td>1403 33RD AVE</td>\n",
       "      <td>SEATTLE</td>\n",
       "      <td>WA</td>\n",
       "      <td>98122.0</td>\n",
       "      <td>{'url': 'https://cosaccela.seattle.gov/portal/...</td>\n",
       "      <td>47.613063</td>\n",
       "      <td>-122.290658</td>\n",
       "      <td>{'latitude': '47.61306347', 'longitude': '-122...</td>\n",
       "    </tr>\n",
       "    <tr>\n",
       "      <th>142749</th>\n",
       "      <td>142749</td>\n",
       "      <td>000102-20CP</td>\n",
       "      <td>Complaint</td>\n",
       "      <td>Request</td>\n",
       "      <td>NaN</td>\n",
       "      <td>I need to turn the heat up to 80 to warm the a...</td>\n",
       "      <td>2020-01-01</td>\n",
       "      <td>{'type': 'Point', 'coordinates': [-122.3231740...</td>\n",
       "      <td>NaN</td>\n",
       "      <td>Completed</td>\n",
       "      <td>520 TERRY AVE</td>\n",
       "      <td>SEATTLE</td>\n",
       "      <td>WA</td>\n",
       "      <td>98104.0</td>\n",
       "      <td>{'url': 'https://cosaccela.seattle.gov/portal/...</td>\n",
       "      <td>47.606010</td>\n",
       "      <td>-122.323174</td>\n",
       "      <td>{'latitude': '47.60601001', 'longitude': '-122...</td>\n",
       "    </tr>\n",
       "    <tr>\n",
       "      <th>142750</th>\n",
       "      <td>142750</td>\n",
       "      <td>000103-20CP</td>\n",
       "      <td>Complaint</td>\n",
       "      <td>Request</td>\n",
       "      <td>Construction</td>\n",
       "      <td>Houses under construction have a Porta Potty p...</td>\n",
       "      <td>2020-01-01</td>\n",
       "      <td>{'type': 'Point', 'coordinates': [-122.3112108...</td>\n",
       "      <td>NaN</td>\n",
       "      <td>Completed</td>\n",
       "      <td>1605 E MARION ST</td>\n",
       "      <td>SEATTLE</td>\n",
       "      <td>WA</td>\n",
       "      <td>98122.0</td>\n",
       "      <td>{'url': 'https://cosaccela.seattle.gov/portal/...</td>\n",
       "      <td>47.610543</td>\n",
       "      <td>-122.311211</td>\n",
       "      <td>{'latitude': '47.6105427', 'longitude': '-122....</td>\n",
       "    </tr>\n",
       "    <tr>\n",
       "      <th>142751</th>\n",
       "      <td>142751</td>\n",
       "      <td>000104-20CP</td>\n",
       "      <td>Complaint</td>\n",
       "      <td>Request</td>\n",
       "      <td>NaN</td>\n",
       "      <td>I live in a rental in the basement of this hom...</td>\n",
       "      <td>2020-01-01</td>\n",
       "      <td>{'type': 'Point', 'coordinates': [-122.3337614...</td>\n",
       "      <td>NaN</td>\n",
       "      <td>Closed</td>\n",
       "      <td>11328 Meridian AVE N</td>\n",
       "      <td>NaN</td>\n",
       "      <td>NaN</td>\n",
       "      <td>NaN</td>\n",
       "      <td>{'url': 'https://cosaccela.seattle.gov/portal/...</td>\n",
       "      <td>47.711339</td>\n",
       "      <td>-122.333761</td>\n",
       "      <td>{'latitude': '47.71133856', 'longitude': '-122...</td>\n",
       "    </tr>\n",
       "    <tr>\n",
       "      <th>142752</th>\n",
       "      <td>142752</td>\n",
       "      <td>000105-20CP</td>\n",
       "      <td>Complaint</td>\n",
       "      <td>Request</td>\n",
       "      <td>Noise</td>\n",
       "      <td>There has been a piece of machinery running fo...</td>\n",
       "      <td>2020-01-01</td>\n",
       "      <td>{'type': 'Point', 'coordinates': [-122.362525,...</td>\n",
       "      <td>Completed</td>\n",
       "      <td>Completed</td>\n",
       "      <td>342 NW 89TH ST</td>\n",
       "      <td>SEATTLE</td>\n",
       "      <td>WA</td>\n",
       "      <td>98117.0</td>\n",
       "      <td>{'url': 'https://cosaccela.seattle.gov/portal/...</td>\n",
       "      <td>47.693700</td>\n",
       "      <td>-122.362525</td>\n",
       "      <td>{'latitude': '47.69369983', 'longitude': '-122...</td>\n",
       "    </tr>\n",
       "  </tbody>\n",
       "</table>\n",
       "</div>"
      ],
      "text/plain": [
       "        Unnamed: 0    recordnum recordtype recordtypemapped recordtypedesc  \\\n",
       "142748      142748  000101-20CP  Complaint          Request       Land Use   \n",
       "142749      142749  000102-20CP  Complaint          Request            NaN   \n",
       "142750      142750  000103-20CP  Complaint          Request   Construction   \n",
       "142751      142751  000104-20CP  Complaint          Request            NaN   \n",
       "142752      142752  000105-20CP  Complaint          Request          Noise   \n",
       "\n",
       "                                              description    opendate  \\\n",
       "142748  Continue to allow trash to build up on deck an...  2020-01-01   \n",
       "142749  I need to turn the heat up to 80 to warm the a...  2020-01-01   \n",
       "142750  Houses under construction have a Porta Potty p...  2020-01-01   \n",
       "142751  I live in a rental in the basement of this hom...  2020-01-01   \n",
       "142752  There has been a piece of machinery running fo...  2020-01-01   \n",
       "\n",
       "                                           inspectiondate lastinspresult  \\\n",
       "142748  {'type': 'Point', 'coordinates': [-122.2906583...      Completed   \n",
       "142749  {'type': 'Point', 'coordinates': [-122.3231740...            NaN   \n",
       "142750  {'type': 'Point', 'coordinates': [-122.3112108...            NaN   \n",
       "142751  {'type': 'Point', 'coordinates': [-122.3337614...            NaN   \n",
       "142752  {'type': 'Point', 'coordinates': [-122.362525,...      Completed   \n",
       "\n",
       "       statuscurrent      originaladdress1 originalcity originalstate  \\\n",
       "142748     Completed         1403 33RD AVE      SEATTLE            WA   \n",
       "142749     Completed         520 TERRY AVE      SEATTLE            WA   \n",
       "142750     Completed      1605 E MARION ST      SEATTLE            WA   \n",
       "142751        Closed  11328 Meridian AVE N          NaN           NaN   \n",
       "142752     Completed        342 NW 89TH ST      SEATTLE            WA   \n",
       "\n",
       "        originalzip                                               link  \\\n",
       "142748      98122.0  {'url': 'https://cosaccela.seattle.gov/portal/...   \n",
       "142749      98104.0  {'url': 'https://cosaccela.seattle.gov/portal/...   \n",
       "142750      98122.0  {'url': 'https://cosaccela.seattle.gov/portal/...   \n",
       "142751          NaN  {'url': 'https://cosaccela.seattle.gov/portal/...   \n",
       "142752      98117.0  {'url': 'https://cosaccela.seattle.gov/portal/...   \n",
       "\n",
       "         latitude   longitude  \\\n",
       "142748  47.613063 -122.290658   \n",
       "142749  47.606010 -122.323174   \n",
       "142750  47.610543 -122.311211   \n",
       "142751  47.711339 -122.333761   \n",
       "142752  47.693700 -122.362525   \n",
       "\n",
       "                                                location1  \n",
       "142748  {'latitude': '47.61306347', 'longitude': '-122...  \n",
       "142749  {'latitude': '47.60601001', 'longitude': '-122...  \n",
       "142750  {'latitude': '47.6105427', 'longitude': '-122....  \n",
       "142751  {'latitude': '47.71133856', 'longitude': '-122...  \n",
       "142752  {'latitude': '47.69369983', 'longitude': '-122...  "
      ]
     },
     "execution_count": 151,
     "metadata": {},
     "output_type": "execute_result"
    }
   ],
   "source": [
    "y20Complaint = y20[y20['recordtype'] =='Complaint']\n",
    "y20Complaint.shape\n",
    "y20Complaint.head()"
   ]
  },
  {
   "cell_type": "markdown",
   "metadata": {},
   "source": [
    "We need to create two masks, one for the \"Weeds\" type complaint, and one for "
   ]
  },
  {
   "cell_type": "code",
   "execution_count": 152,
   "metadata": {},
   "outputs": [
    {
     "name": "stdout",
     "output_type": "stream",
     "text": [
      "False    9431\n",
      "True     1200\n",
      "Name: description, dtype: int64\n",
      "False    8986\n",
      "True     1645\n",
      "Name: recordtypedesc, dtype: int64\n"
     ]
    },
    {
     "data": {
      "text/plain": [
       "(1850, 18)"
      ]
     },
     "execution_count": 152,
     "metadata": {},
     "output_type": "execute_result"
    }
   ],
   "source": [
    "keywords = ['weeds', 'vegetation', 'moss', 'overgrown', 'overgrowth', 'vines']\n",
    "regstring = '|'.join(keywords)\n",
    "keymask = y20Complaint['description'].str.contains(regstring, case = False, na=False) #remove case sensitivity and set all empty cells to false\n",
    "#print(keymask)\n",
    "print(keymask.value_counts())\n",
    "typedescmask = y20Complaint['recordtypedesc']=='Weeds'\n",
    "print(typedescmask.value_counts())\n",
    "#print(typedescmask)\n",
    "fy20 = y20Complaint[keymask | typedescmask] #selects only rows if either mask has a True\n",
    "fy20.shape\n",
    "#fy21.head()"
   ]
  },
  {
   "cell_type": "code",
   "execution_count": 153,
   "metadata": {},
   "outputs": [
    {
     "name": "stdout",
     "output_type": "stream",
     "text": [
      "Empty DataFrame\n",
      "Columns: [Unnamed: 0, recordnum, recordtype, recordtypemapped, recordtypedesc, description, opendate, inspectiondate, lastinspresult, statuscurrent, originaladdress1, originalcity, originalstate, originalzip, link, latitude, longitude, location1]\n",
      "Index: []\n"
     ]
    }
   ],
   "source": [
    "fy20['description'].head()\n",
    "fy20.iloc[3,5]\n",
    "\n",
    "print(fy20.loc[fy20['opendate']=='2021-12-8'])"
   ]
  },
  {
   "cell_type": "code",
   "execution_count": 154,
   "metadata": {},
   "outputs": [],
   "source": [
    "fy20.to_csv(\"vegcomplaints.csv\")"
   ]
  },
  {
   "cell_type": "markdown",
   "metadata": {},
   "source": [
    "Make a container for each day in the year"
   ]
  },
  {
   "cell_type": "code",
   "execution_count": 22,
   "metadata": {},
   "outputs": [
    {
     "name": "stdout",
     "output_type": "stream",
     "text": [
      "2020-01-01\n",
      "2020-08-14    31\n",
      "2020-06-05    27\n",
      "2020-07-08    23\n",
      "2020-06-03    21\n",
      "2020-06-11    21\n",
      "              ..\n",
      "2020-10-07     1\n",
      "2020-10-11     1\n",
      "2020-10-10     1\n",
      "2020-10-02     1\n",
      "2020-12-31     1\n",
      "Name: opendate, Length: 334, dtype: int64\n",
      "0\n",
      "[1, 2, 3, 0, 0, 4, 2, 4, 10, 3, 1, 2, 3, 4, 1, 5, 7, 0, 0, 1, 4, 1, 4, 6, 1, 0, 9, 5, 3, 3, 3, 2, 0, 2, 0, 7, 3, 8, 0, 1, 8, 7, 2, 9, 3, 2, 2, 2, 6, 11, 8, 8, 2, 1, 2, 3, 6, 7, 4, 0, 5, 3, 4, 3, 5, 3, 3, 1, 4, 6, 2, 18, 1, 3, 8, 2, 4, 2, 1, 1, 0, 0, 3, 3, 1, 4, 7, 1, 0, 1, 2, 1, 0, 4, 1, 0, 1, 4, 3, 2, 4, 4, 4, 7, 2, 2, 4, 2, 7, 2, 4, 7, 3, 5, 12, 2, 1, 1, 4, 6, 6, 14, 3, 1, 11, 4, 7, 6, 6, 2, 3, 5, 11, 9, 12, 7, 3, 6, 8, 9, 13, 7, 17, 9, 9, 6, 9, 5, 15, 12, 1, 13, 15, 10, 21, 8, 27, 8, 4, 7, 8, 11, 21, 5, 11, 7, 11, 5, 7, 7, 4, 4, 6, 12, 10, 6, 13, 13, 6, 4, 19, 16, 4, 3, 5, 1, 2, 2, 12, 23, 15, 6, 9, 9, 6, 14, 4, 10, 12, 0, 1, 5, 5, 9, 8, 9, 0, 3, 9, 8, 9, 11, 2, 3, 2, 9, 9, 3, 7, 7, 4, 5, 17, 12, 9, 10, 31, 4, 4, 15, 7, 8, 10, 5, 3, 6, 5, 4, 8, 3, 6, 1, 2, 13, 15, 3, 4, 10, 4, 4, 9, 7, 12, 7, 9, 1, 2, 10, 13, 5, 3, 5, 2, 2, 6, 5, 6, 15, 5, 3, 2, 7, 12, 5, 4, 1, 4, 0, 9, 4, 1, 5, 11, 1, 1, 4, 2, 7, 4, 4, 2, 0, 4, 2, 6, 2, 4, 0, 2, 3, 1, 0, 6, 3, 0, 3, 3, 4, 6, 2, 3, 0, 2, 8, 6, 3, 5, 3, 2, 0, 2, 5, 3, 2, 4, 2, 1, 2, 4, 7, 0, 0, 0, 0, 2, 3, 3, 3, 3, 2, 0, 3, 1, 6, 1, 2, 2, 1, 2, 2, 3, 2, 3, 1, 2, 1, 3, 3, 2, 0, 0, 0, 7, 3, 0, 1]\n"
     ]
    }
   ],
   "source": [
    "fy20 = pd.read_csv(\"vegcomplaints.csv\")\n",
    "\n",
    "dates = pd.date_range(start='2020-01-01', end='2020-12-31').strftime('%Y-%m-%d')\n",
    "days = np.arange(0,366)\n",
    "vegCounts = pd.DataFrame(data = dates,columns = ['dates'])\n",
    "print(vegCounts.iloc[0,0])\n",
    "counts = []\n",
    "print(fy20.opendate.value_counts())\n",
    "print(len(fy20[fy20[\"opendate\"] == \"2021-01-02\"]))\n",
    "for x in days:\n",
    "    counts.append(len(fy20[fy20[\"opendate\"] == vegCounts.iloc[x,0]]))\n",
    "print(counts)\n",
    "vegCounts['counts'] = counts\n",
    "\n"
   ]
  },
  {
   "cell_type": "markdown",
   "metadata": {},
   "source": [
    "We now want to grab 5 things:\n",
    "* overall average in the year\n",
    "* average and std for winter ( time from 1/1 to start of spring 3/19 and then start of winter 12/21 to 12/31)\n",
    "* avg and std for summer (time from start of summer 6/20 to start of fall 9/22)"
   ]
  },
  {
   "cell_type": "code",
   "execution_count": 23,
   "metadata": {},
   "outputs": [
    {
     "name": "stdout",
     "output_type": "stream",
     "text": [
      "5.054644808743169 3.4545454545454546 3.0958225130638377 7.340425531914893 5.167210914427612\n"
     ]
    }
   ],
   "source": [
    "yearAvg = vegCounts[\"counts\"].mean()\n",
    "\n",
    "winterC = vegCounts[\n",
    "    ((vegCounts['dates'] >= \"2020-01-01\") & (vegCounts['dates'] < \"2020-03-19\"))\n",
    "    |\n",
    "    ((vegCounts['dates'] >= \"2020-12-21\") & (vegCounts['dates'] < \"2020-12-31\"))]\n",
    "\n",
    "summerC = vegCounts[\n",
    "    (vegCounts['dates'] >= \"2020-06-20\") & (vegCounts['dates'] < \"2020-09-22\")]\n",
    "wN = len(winterC)\n",
    "sN = len(summerC)\n",
    "wAvg = winterC[\"counts\"].mean()\n",
    "wSTD = winterC[\"counts\"].std()\n",
    "sAvg = summerC[\"counts\"].mean()\n",
    "sSTD = summerC[\"counts\"].std()\n",
    "print(yearAvg, wAvg, wSTD, sAvg, sSTD)"
   ]
  },
  {
   "cell_type": "markdown",
   "metadata": {},
   "source": [
    "Stats goal:\n",
    "left-tailed hypothesis test for two population means\n",
    "\n",
    "We hypothesize that, in general, people are more likely to file complaints for vegetation-based issues in winter than during the summer. We have two samples, one being the amount of complaints in winter 2020 and the other in summer 2020. We do not know information outside of 2020, only the subset of 2020. So, we will approach the problem as a two-sample unpaired t-test, with a significance level of 0.05. Unpaired because while they are both subsets of 2020, we are testing for summer and winter in general which are distinct periods.\n",
    "\n",
    "So, we form the following null and alternate hypotheses:\n",
    "$$\n",
    "H_{0}: \\mu _{w} = \\mu _{s} \\\\ \n",
    "H_{a}: \\mu _{w} < \\mu _{s}\n",
    "$$\n",
    "\n",
    "And find the following t-statistic\n",
    "$$\n",
    "t=\\frac{\\overline{x_{w}}-\\overline{x_{s}}}{\\sqrt{\\frac{s_{w}^{2}}{n_{w}}+\\frac{s_{s}^{2}}{n_{s}}}}\n",
    "$$\n",
    "\n",
    "with \n",
    "$$\n",
    "df=n_{w} + n_{s}-2\n",
    "$$\n",
    "\n",
    "where $\\overline{x_{i}}$, $s_{i}$, and $n_{i}$ are the mean, standard deviation, and sample size of the samples, respectively."
   ]
  },
  {
   "cell_type": "code",
   "execution_count": 24,
   "metadata": {},
   "outputs": [
    {
     "name": "stdout",
     "output_type": "stream",
     "text": [
      "-6.198958089732714 180\n"
     ]
    }
   ],
   "source": [
    "tstat = (wAvg - sAvg)/((wSTD**2 / wN) + (sSTD**2 / sN))**(0.5)\n",
    "df = wN + sN - 2"
   ]
  },
  {
   "cell_type": "markdown",
   "metadata": {},
   "source": [
    "With $t \\approx -6.198958$ and $df = 180$ we can plot the t-distribution and find our p-value."
   ]
  },
  {
   "cell_type": "code",
   "execution_count": 32,
   "metadata": {},
   "outputs": [
    {
     "data": {
      "image/png": "[encoded data removed]",
      "text/plain": [
       "<Figure size 432x288 with 1 Axes>"
      ]
     },
     "metadata": {
      "needs_background": "light"
     },
     "output_type": "display_data"
    },
    {
     "name": "stdout",
     "output_type": "stream",
     "text": [
      "2.4963214721085264e-09\n"
     ]
    }
   ],
   "source": [
    "import matplotlib.pyplot as plt\n",
    "\n",
    "results = st.ttest_ind(winterC[\"counts\"], summerC[\"counts\"], equal_var=False, alternative='less')\n",
    "\n",
    "t_dist = st.t(180)\n",
    "t_x = np.linspace(-7,7,1000)\n",
    "pdf_vals = t_dist.pdf(t_x)\n",
    "plt.vlines(tstat, -0.025, 0.025, color = 'r', label='t-statistic')\n",
    "plt.fill_between(t_x, pdf_vals,0, where= t_x<=tstat, color='r')\n",
    "plt.plot(t_x, pdf_vals)\n",
    "#plt.plot(tstat, results.pvalue, marker=\"x\", markersize=20)\n",
    "plt.xlabel('t statistic')\n",
    "plt.title('PDF for t distribution with df=180')\n",
    "plt.legend()\n",
    "plt.show()\n",
    "\n",
    "print(results.pvalue)"
   ]
  },
  {
   "cell_type": "markdown",
   "metadata": {},
   "source": [
    "\n",
    "Maybe unsurprisingly, we found that our null hypothesis was immensely wrong. We had allowed ourselves a significance of $0.05$ to reject our result and we found $p\\approx2.5e$-$9$. We can say with confidence that Seattle complainers will, in general, be more likely to report their complaints with vegetation in the summer than in the winter."
   ]
  },
  {
   "cell_type": "markdown",
   "metadata": {},
   "source": []
  }
 ],
 "metadata": {
  "interpreter": {
   "hash": "7f2633a0dd9fad194999ffc17b7b93627efd4bccf6144e14bc5fef7dfd0c6355"
  },
  "kernelspec": {
   "display_name": "Python 3.10.4 64-bit",
   "language": "python",
   "name": "python3"
  },
  "language_info": {
   "codemirror_mode": {
    "name": "ipython",
    "version": 3
   },
   "file_extension": ".py",
   "mimetype": "text/x-python",
   "name": "python",
   "nbconvert_exporter": "python",
   "pygments_lexer": "ipython3",
   "version": "3.10.4"
  },
  "orig_nbformat": 4
 },
 "nbformat": 4,
 "nbformat_minor": 2
}
