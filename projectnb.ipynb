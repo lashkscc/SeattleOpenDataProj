{
 "cells": [
  {
   "cell_type": "markdown",
   "metadata": {},
   "source": [
    "## Data analytics assignment w/ Pandas and Socrata API\n",
    "\n",
    "As per the assignment's instructions, we will demonstrate a technique/process from our course and apply it to some publicly available data set. While not a requirement for the assignment, we will also use this opportunity to utilize an API to retrieve the data which we will then filter and format into a useable form. _We definitely aren't doing this extra work so I can have a reference document for the future that covers SODA API and dataframes. No way, that would be silly._ \n",
    "\n",
    "\n",
    "### Background\n",
    "One of the finer points of frustration of living in a quiet Seattle neighborhood is the constant worry that my neighbors are judging me. There have been a few occasions in the past of a neighbor making complaints about unkempt houses in my neighborhood, including my own property. I'd say that as we come out of winter the only real motivation I have to start mowing and keeping vegetation trim is brought on by the fear that somebody will complain. Am I alone in that worry? Do people really complain about vegetation less in winter when things don't grow? Let's find out!\n",
    "\n",
    "\n",
    "### Getting our data\n",
    "The city of Seattle releases and maintains a plethora of databases, one of which we are going to access. In order to do so, we'll need to use the SODA API.\n",
    "\n",
    "To use the SODA API we import the Socrata module. The imported configs holds our app token so that it won't be publicly available when uploaded to github. You can learn how to generate your own app token [here](https://support.socrata.com/hc/en-us/articles/360015776014-API-Keys), for free.\n"
   ]
  },
  {
   "cell_type": "code",
   "execution_count": 1,
   "metadata": {},
   "outputs": [],
   "source": [
    "import configs as cfg\n",
    "from sodapy import Socrata"
   ]
  },
  {
   "cell_type": "markdown",
   "metadata": {},
   "source": [
    "To access our data, we need identifiers for our endpoint. Our domain is data.seattle.gov and the specific dataset we are pulling from, [Code Complaints and Violations](https://data.seattle.gov/Community/Code-Complaints-and-Violations/ez4a-iug7) is identified by ez4a-iug7.\n",
    "\n",
    "Using our token we build our client to query"
   ]
  },
  {
   "cell_type": "code",
   "execution_count": 2,
   "metadata": {},
   "outputs": [],
   "source": [
    "\n",
    "data_url =\"data.seattle.gov\"\n",
    "data_set=\"ez4a-iug7\"\n",
    "\n",
    "app_token = cfg.atoken\n",
    "client=Socrata(data_url,app_token)\n"
   ]
  },
  {
   "cell_type": "markdown",
   "metadata": {},
   "source": [
    "Unfortunately, the dataset we are looking at is quite big and we can only query for 50,000 rows or less per go. First, we'll check for the size of our dataset and from there we will download in pieces using offset."
   ]
  },
  {
   "cell_type": "code",
   "execution_count": 3,
   "metadata": {},
   "outputs": [
    {
     "name": "stdout",
     "output_type": "stream",
     "text": [
      "[{'COUNT': '172181'}]\n"
     ]
    }
   ],
   "source": [
    "count = client.get(data_set, select=\"COUNT(*)\")\n",
    "print(count)"
   ]
  },
  {
   "cell_type": "markdown",
   "metadata": {},
   "source": [
    "With over 170,000 records we need to request multiple times, which we can do via offsets to increment through the database."
   ]
  },
  {
   "cell_type": "code",
   "execution_count": 4,
   "metadata": {},
   "outputs": [],
   "source": [
    "import pandas as pd\n",
    "\n",
    "start = 0\n",
    "block = 5000\n",
    "results = []\n",
    "while start < int(count[0]['COUNT']):\n",
    "    results.extend(client.get(data_set, offset=start, limit=block))\n",
    "    start +=block\n",
    "    \n",
    "df = pd.DataFrame.from_records(results)\n",
    "\n",
    "df.to_csv(\"complaintsdata.csv\")\n"
   ]
  },
  {
   "cell_type": "markdown",
   "metadata": {},
   "source": [
    "## The dataset\n",
    "\n",
    "The dataset we've just pulled is a database of complaints filed to the Seattle Department of Construction & Inspections. The database contains all complaints filed by phone, online, and via the more recent \"Find it, Fix it\" app. Complaints can be varied from street vendors using land improperly to elevators not working in buildings or potholes needing to be fixed. The data isn't curated into precise categories, as the categories may be user selected and thus not the most trustworthy, but that is dependent on the vagueness of reports. \n",
    "\n",
    "Besides inaccuracy due to the variety of user input, there are a few more caveats to using the database\n",
    "\n",
    "* The dataset holds records from as far back as 2003, but the \"Find it, Fix it\" app wasn't released until 2013, which can skew any statistical outcomes if we look at data over time. Unfortunately we don't have any user statistics or complaint demographics so there doesn't seem to be any nice way to normalize\n",
    "* The category of complaint isn't required to be set when making your submission, meaning if we try to find records pertaining to vegetation, we need to filter beyond the record type and examine the content of some complaints\n",
    "* The dataset is indexed on each complaint, as opposed to complaints per day, so we need to count the dataset if we want to analyze by individual dates.\n",
    "\n",
    "\n",
    "### Goal\n",
    "\n",
    "\n",
    "We have a massive dataset with lots of stuff we don't care about. For the purposes of this project, we want to transform the dataset into the following:\n",
    "\n",
    "* only reports that occur in a single calendar year, Jan 1 2020 to Dec 31 2020\n",
    "* we want reports concerning vegetation, which we'll extend to those containing the keywords 'weeds', 'vegetation', 'moss', 'overgrown', 'overgrowth', and 'vines'\n",
    "* per day complaint counts for each day to look at trends\n",
    "\n",
    "\n",
    "Once we have a data set with complaint counts for each day we can begin our statistical analysis. \n",
    "\n",
    "Moving forward, we have just downloaded a massive amount of data, to the tune of an ~87 mb .CSV file. So, lets focus on filtering some of that info down, starting with their dates."
   ]
  },
  {
   "cell_type": "code",
   "execution_count": 5,
   "metadata": {},
   "outputs": [
    {
     "name": "stdout",
     "output_type": "stream",
     "text": [
      "['Unnamed: 0', 'recordnum', 'recordtype', 'recordtypemapped', 'recordtypedesc', 'description', 'opendate', 'inspectiondate', 'lastinspresult', 'statuscurrent', 'originaladdress1', 'originalcity', 'originalstate', 'originalzip', 'link', 'latitude', 'longitude', 'location1']\n"
     ]
    }
   ],
   "source": [
    "df=pd.read_csv(\"complaintsdata.csv\")\n",
    "\n",
    "print(df.columns.tolist())"
   ]
  },
  {
   "cell_type": "markdown",
   "metadata": {},
   "source": [
    "We see two different fields relating to date, 'opendate' and 'inspectiondate'. For the purposes of targeting the people who are making the complaints and not the organization's response, we'll use the prior.  "
   ]
  },
  {
   "cell_type": "code",
   "execution_count": 6,
   "metadata": {},
   "outputs": [
    {
     "data": {
      "text/plain": [
       "(12419, 18)"
      ]
     },
     "execution_count": 6,
     "metadata": {},
     "output_type": "execute_result"
    }
   ],
   "source": [
    "y20 = df[(df['opendate'] >= '2020-01-01') & (df['opendate'] < '2021-01-01')]\n",
    "y20.shape"
   ]
  },
  {
   "cell_type": "markdown",
   "metadata": {},
   "source": [
    "We've already made a big reduction in entries, from 172149 to 12419! From here, lets examine the columns to reduce further."
   ]
  },
  {
   "cell_type": "code",
   "execution_count": 7,
   "metadata": {},
   "outputs": [
    {
     "data": {
      "text/html": [
       "<div>\n",
       "<style scoped>\n",
       "    .dataframe tbody tr th:only-of-type {\n",
       "        vertical-align: middle;\n",
       "    }\n",
       "\n",
       "    .dataframe tbody tr th {\n",
       "        vertical-align: top;\n",
       "    }\n",
       "\n",
       "    .dataframe thead th {\n",
       "        text-align: right;\n",
       "    }\n",
       "</style>\n",
       "<table border=\"1\" class=\"dataframe\">\n",
       "  <thead>\n",
       "    <tr style=\"text-align: right;\">\n",
       "      <th></th>\n",
       "      <th>Unnamed: 0</th>\n",
       "      <th>recordnum</th>\n",
       "      <th>recordtype</th>\n",
       "      <th>recordtypemapped</th>\n",
       "      <th>recordtypedesc</th>\n",
       "      <th>description</th>\n",
       "      <th>opendate</th>\n",
       "      <th>inspectiondate</th>\n",
       "      <th>lastinspresult</th>\n",
       "      <th>statuscurrent</th>\n",
       "      <th>originaladdress1</th>\n",
       "      <th>originalcity</th>\n",
       "      <th>originalstate</th>\n",
       "      <th>originalzip</th>\n",
       "      <th>link</th>\n",
       "      <th>latitude</th>\n",
       "      <th>longitude</th>\n",
       "      <th>location1</th>\n",
       "    </tr>\n",
       "  </thead>\n",
       "  <tbody>\n",
       "    <tr>\n",
       "      <th>141530</th>\n",
       "      <td>141530</td>\n",
       "      <td>1049066-VI</td>\n",
       "      <td>Notice of Violation</td>\n",
       "      <td>Case</td>\n",
       "      <td>NaN</td>\n",
       "      <td>Per Online; The owner of this house did not ob...</td>\n",
       "      <td>2020-09-16</td>\n",
       "      <td>{'type': 'Point', 'coordinates': [-122.2997167...</td>\n",
       "      <td>Compliance Achieved</td>\n",
       "      <td>Completed</td>\n",
       "      <td>176 25TH AVE</td>\n",
       "      <td>SEATTLE</td>\n",
       "      <td>WA</td>\n",
       "      <td>98122.0</td>\n",
       "      <td>{'url': 'https://cosaccela.seattle.gov/portal/...</td>\n",
       "      <td>47.603513</td>\n",
       "      <td>-122.299717</td>\n",
       "      <td>{'latitude': '47.60351336', 'longitude': '-122...</td>\n",
       "    </tr>\n",
       "    <tr>\n",
       "      <th>142748</th>\n",
       "      <td>142748</td>\n",
       "      <td>000101-20CP</td>\n",
       "      <td>Complaint</td>\n",
       "      <td>Request</td>\n",
       "      <td>Land Use</td>\n",
       "      <td>Continue to allow trash to build up on deck an...</td>\n",
       "      <td>2020-01-01</td>\n",
       "      <td>{'type': 'Point', 'coordinates': [-122.2906583...</td>\n",
       "      <td>Completed</td>\n",
       "      <td>Completed</td>\n",
       "      <td>1403 33RD AVE</td>\n",
       "      <td>SEATTLE</td>\n",
       "      <td>WA</td>\n",
       "      <td>98122.0</td>\n",
       "      <td>{'url': 'https://cosaccela.seattle.gov/portal/...</td>\n",
       "      <td>47.613063</td>\n",
       "      <td>-122.290658</td>\n",
       "      <td>{'latitude': '47.61306347', 'longitude': '-122...</td>\n",
       "    </tr>\n",
       "    <tr>\n",
       "      <th>142749</th>\n",
       "      <td>142749</td>\n",
       "      <td>000102-20CP</td>\n",
       "      <td>Complaint</td>\n",
       "      <td>Request</td>\n",
       "      <td>NaN</td>\n",
       "      <td>I need to turn the heat up to 80 to warm the a...</td>\n",
       "      <td>2020-01-01</td>\n",
       "      <td>{'type': 'Point', 'coordinates': [-122.3231740...</td>\n",
       "      <td>NaN</td>\n",
       "      <td>Completed</td>\n",
       "      <td>520 TERRY AVE</td>\n",
       "      <td>SEATTLE</td>\n",
       "      <td>WA</td>\n",
       "      <td>98104.0</td>\n",
       "      <td>{'url': 'https://cosaccela.seattle.gov/portal/...</td>\n",
       "      <td>47.606010</td>\n",
       "      <td>-122.323174</td>\n",
       "      <td>{'latitude': '47.60601001', 'longitude': '-122...</td>\n",
       "    </tr>\n",
       "    <tr>\n",
       "      <th>142750</th>\n",
       "      <td>142750</td>\n",
       "      <td>000103-20CP</td>\n",
       "      <td>Complaint</td>\n",
       "      <td>Request</td>\n",
       "      <td>Construction</td>\n",
       "      <td>Houses under construction have a Porta Potty p...</td>\n",
       "      <td>2020-01-01</td>\n",
       "      <td>{'type': 'Point', 'coordinates': [-122.3112108...</td>\n",
       "      <td>NaN</td>\n",
       "      <td>Completed</td>\n",
       "      <td>1605 E MARION ST</td>\n",
       "      <td>SEATTLE</td>\n",
       "      <td>WA</td>\n",
       "      <td>98122.0</td>\n",
       "      <td>{'url': 'https://cosaccela.seattle.gov/portal/...</td>\n",
       "      <td>47.610543</td>\n",
       "      <td>-122.311211</td>\n",
       "      <td>{'latitude': '47.6105427', 'longitude': '-122....</td>\n",
       "    </tr>\n",
       "    <tr>\n",
       "      <th>142751</th>\n",
       "      <td>142751</td>\n",
       "      <td>000104-20CP</td>\n",
       "      <td>Complaint</td>\n",
       "      <td>Request</td>\n",
       "      <td>NaN</td>\n",
       "      <td>I live in a rental in the basement of this hom...</td>\n",
       "      <td>2020-01-01</td>\n",
       "      <td>{'type': 'Point', 'coordinates': [-122.3337614...</td>\n",
       "      <td>NaN</td>\n",
       "      <td>Closed</td>\n",
       "      <td>11328 Meridian AVE N</td>\n",
       "      <td>NaN</td>\n",
       "      <td>NaN</td>\n",
       "      <td>NaN</td>\n",
       "      <td>{'url': 'https://cosaccela.seattle.gov/portal/...</td>\n",
       "      <td>47.711339</td>\n",
       "      <td>-122.333761</td>\n",
       "      <td>{'latitude': '47.71133856', 'longitude': '-122...</td>\n",
       "    </tr>\n",
       "  </tbody>\n",
       "</table>\n",
       "</div>"
      ],
      "text/plain": [
       "        Unnamed: 0    recordnum           recordtype recordtypemapped  \\\n",
       "141530      141530   1049066-VI  Notice of Violation             Case   \n",
       "142748      142748  000101-20CP            Complaint          Request   \n",
       "142749      142749  000102-20CP            Complaint          Request   \n",
       "142750      142750  000103-20CP            Complaint          Request   \n",
       "142751      142751  000104-20CP            Complaint          Request   \n",
       "\n",
       "       recordtypedesc                                        description  \\\n",
       "141530            NaN  Per Online; The owner of this house did not ob...   \n",
       "142748       Land Use  Continue to allow trash to build up on deck an...   \n",
       "142749            NaN  I need to turn the heat up to 80 to warm the a...   \n",
       "142750   Construction  Houses under construction have a Porta Potty p...   \n",
       "142751            NaN  I live in a rental in the basement of this hom...   \n",
       "\n",
       "          opendate                                     inspectiondate  \\\n",
       "141530  2020-09-16  {'type': 'Point', 'coordinates': [-122.2997167...   \n",
       "142748  2020-01-01  {'type': 'Point', 'coordinates': [-122.2906583...   \n",
       "142749  2020-01-01  {'type': 'Point', 'coordinates': [-122.3231740...   \n",
       "142750  2020-01-01  {'type': 'Point', 'coordinates': [-122.3112108...   \n",
       "142751  2020-01-01  {'type': 'Point', 'coordinates': [-122.3337614...   \n",
       "\n",
       "             lastinspresult statuscurrent      originaladdress1 originalcity  \\\n",
       "141530  Compliance Achieved     Completed          176 25TH AVE      SEATTLE   \n",
       "142748            Completed     Completed         1403 33RD AVE      SEATTLE   \n",
       "142749                  NaN     Completed         520 TERRY AVE      SEATTLE   \n",
       "142750                  NaN     Completed      1605 E MARION ST      SEATTLE   \n",
       "142751                  NaN        Closed  11328 Meridian AVE N          NaN   \n",
       "\n",
       "       originalstate  originalzip  \\\n",
       "141530            WA      98122.0   \n",
       "142748            WA      98122.0   \n",
       "142749            WA      98104.0   \n",
       "142750            WA      98122.0   \n",
       "142751           NaN          NaN   \n",
       "\n",
       "                                                     link   latitude  \\\n",
       "141530  {'url': 'https://cosaccela.seattle.gov/portal/...  47.603513   \n",
       "142748  {'url': 'https://cosaccela.seattle.gov/portal/...  47.613063   \n",
       "142749  {'url': 'https://cosaccela.seattle.gov/portal/...  47.606010   \n",
       "142750  {'url': 'https://cosaccela.seattle.gov/portal/...  47.610543   \n",
       "142751  {'url': 'https://cosaccela.seattle.gov/portal/...  47.711339   \n",
       "\n",
       "         longitude                                          location1  \n",
       "141530 -122.299717  {'latitude': '47.60351336', 'longitude': '-122...  \n",
       "142748 -122.290658  {'latitude': '47.61306347', 'longitude': '-122...  \n",
       "142749 -122.323174  {'latitude': '47.60601001', 'longitude': '-122...  \n",
       "142750 -122.311211  {'latitude': '47.6105427', 'longitude': '-122....  \n",
       "142751 -122.333761  {'latitude': '47.71133856', 'longitude': '-122...  "
      ]
     },
     "execution_count": 7,
     "metadata": {},
     "output_type": "execute_result"
    }
   ],
   "source": [
    "y20.head()"
   ]
  },
  {
   "cell_type": "markdown",
   "metadata": {},
   "source": [
    "We see that 'recordtype' allows for multiple types of entries outside of complaints, which we wouldn't care about."
   ]
  },
  {
   "cell_type": "code",
   "execution_count": 8,
   "metadata": {},
   "outputs": [],
   "source": [
    "y20Complaint = y20[y20['recordtype'] =='Complaint']"
   ]
  },
  {
   "cell_type": "markdown",
   "metadata": {},
   "source": [
    "Now, we begin filtering by our subject matter. We have two ways we will now reduce our dataset. \n",
    "\n",
    "* include all entries with 'recordtypedesc' == 'weeds'\n",
    "* include all entries with the keywords 'weeds', 'vegetation', 'moss', 'overgrown', 'overgrowth', or 'vines' in 'description'\n",
    "\n",
    "To do that, we'll make a mask for each bullet, combine them, and apply them to our dataframe."
   ]
  },
  {
   "cell_type": "code",
   "execution_count": 18,
   "metadata": {},
   "outputs": [
    {
     "name": "stdout",
     "output_type": "stream",
     "text": [
      "False    9431\n",
      "True     1200\n",
      "Name: description, dtype: int64\n",
      "False    8986\n",
      "True     1645\n",
      "Name: recordtypedesc, dtype: int64\n",
      "(1850, 18)\n"
     ]
    },
    {
     "data": {
      "text/html": [
       "<div>\n",
       "<style scoped>\n",
       "    .dataframe tbody tr th:only-of-type {\n",
       "        vertical-align: middle;\n",
       "    }\n",
       "\n",
       "    .dataframe tbody tr th {\n",
       "        vertical-align: top;\n",
       "    }\n",
       "\n",
       "    .dataframe thead th {\n",
       "        text-align: right;\n",
       "    }\n",
       "</style>\n",
       "<table border=\"1\" class=\"dataframe\">\n",
       "  <thead>\n",
       "    <tr style=\"text-align: right;\">\n",
       "      <th></th>\n",
       "      <th>Unnamed: 0</th>\n",
       "      <th>recordnum</th>\n",
       "      <th>recordtype</th>\n",
       "      <th>recordtypemapped</th>\n",
       "      <th>recordtypedesc</th>\n",
       "      <th>description</th>\n",
       "      <th>opendate</th>\n",
       "      <th>inspectiondate</th>\n",
       "      <th>lastinspresult</th>\n",
       "      <th>statuscurrent</th>\n",
       "      <th>originaladdress1</th>\n",
       "      <th>originalcity</th>\n",
       "      <th>originalstate</th>\n",
       "      <th>originalzip</th>\n",
       "      <th>link</th>\n",
       "      <th>latitude</th>\n",
       "      <th>longitude</th>\n",
       "      <th>location1</th>\n",
       "    </tr>\n",
       "  </thead>\n",
       "  <tbody>\n",
       "    <tr>\n",
       "      <th>142753</th>\n",
       "      <td>142753</td>\n",
       "      <td>000106-20CP</td>\n",
       "      <td>Complaint</td>\n",
       "      <td>Request</td>\n",
       "      <td>Vacant Building</td>\n",
       "      <td>Per Online; Building is vacant. The front door...</td>\n",
       "      <td>2020-01-01</td>\n",
       "      <td>{'type': 'Point', 'coordinates': [-122.2779773...</td>\n",
       "      <td>Completed</td>\n",
       "      <td>Completed</td>\n",
       "      <td>7856 RENTON AVE S</td>\n",
       "      <td>SEATTLE</td>\n",
       "      <td>WA</td>\n",
       "      <td>98118.0</td>\n",
       "      <td>{'url': 'https://cosaccela.seattle.gov/portal/...</td>\n",
       "      <td>47.531858</td>\n",
       "      <td>-122.277977</td>\n",
       "      <td>{'latitude': '47.53185787', 'longitude': '-122...</td>\n",
       "    </tr>\n",
       "    <tr>\n",
       "      <th>142777</th>\n",
       "      <td>142777</td>\n",
       "      <td>000125-20CP</td>\n",
       "      <td>Complaint</td>\n",
       "      <td>Request</td>\n",
       "      <td>Weeds</td>\n",
       "      <td>Pines trees overhanging low over sidewalk and ...</td>\n",
       "      <td>2020-01-02</td>\n",
       "      <td>{'type': 'Point', 'coordinates': [-122.4116831...</td>\n",
       "      <td>Completed</td>\n",
       "      <td>Completed</td>\n",
       "      <td>2802 43RD AVE W</td>\n",
       "      <td>SEATTLE</td>\n",
       "      <td>WA</td>\n",
       "      <td>98199.0</td>\n",
       "      <td>{'url': 'https://cosaccela.seattle.gov/portal/...</td>\n",
       "      <td>47.645180</td>\n",
       "      <td>-122.411683</td>\n",
       "      <td>{'latitude': '47.64518008', 'longitude': '-122...</td>\n",
       "    </tr>\n",
       "    <tr>\n",
       "      <th>142834</th>\n",
       "      <td>142834</td>\n",
       "      <td>000167-20CP</td>\n",
       "      <td>Complaint</td>\n",
       "      <td>Request</td>\n",
       "      <td>Land Use</td>\n",
       "      <td>Per Online; This vacant lot has rubbish and ga...</td>\n",
       "      <td>2020-01-03</td>\n",
       "      <td>{'type': 'Point', 'coordinates': [-122.3600084...</td>\n",
       "      <td>NaN</td>\n",
       "      <td>Completed</td>\n",
       "      <td>10547 2nd AVE NW</td>\n",
       "      <td>NaN</td>\n",
       "      <td>NaN</td>\n",
       "      <td>NaN</td>\n",
       "      <td>{'url': 'https://cosaccela.seattle.gov/portal/...</td>\n",
       "      <td>47.706473</td>\n",
       "      <td>-122.360008</td>\n",
       "      <td>{'latitude': '47.70647282', 'longitude': '-122...</td>\n",
       "    </tr>\n",
       "    <tr>\n",
       "      <th>142853</th>\n",
       "      <td>142853</td>\n",
       "      <td>000185-20CP</td>\n",
       "      <td>Complaint</td>\n",
       "      <td>Request</td>\n",
       "      <td>Emergency , Vacant Building</td>\n",
       "      <td>Open to entry outdoor storage overgrown vegeta...</td>\n",
       "      <td>2020-01-06</td>\n",
       "      <td>{'type': 'Point', 'coordinates': [-122.3463936...</td>\n",
       "      <td>Completed</td>\n",
       "      <td>Completed</td>\n",
       "      <td>8842 9TH AVE SW</td>\n",
       "      <td>SEATTLE</td>\n",
       "      <td>WA</td>\n",
       "      <td>98106.0</td>\n",
       "      <td>{'url': 'https://cosaccela.seattle.gov/portal/...</td>\n",
       "      <td>47.523409</td>\n",
       "      <td>-122.346394</td>\n",
       "      <td>{'latitude': '47.52340934', 'longitude': '-122...</td>\n",
       "    </tr>\n",
       "    <tr>\n",
       "      <th>142900</th>\n",
       "      <td>142900</td>\n",
       "      <td>000225-20CP</td>\n",
       "      <td>Complaint</td>\n",
       "      <td>Request</td>\n",
       "      <td>Weeds</td>\n",
       "      <td>Lavender bushes are still covering 2/3 of the ...</td>\n",
       "      <td>2020-01-06</td>\n",
       "      <td>{'type': 'Point', 'coordinates': [-122.3686227...</td>\n",
       "      <td>NaN</td>\n",
       "      <td>Completed</td>\n",
       "      <td>2602 9th AVE W</td>\n",
       "      <td>NaN</td>\n",
       "      <td>NaN</td>\n",
       "      <td>NaN</td>\n",
       "      <td>{'url': 'https://cosaccela.seattle.gov/portal/...</td>\n",
       "      <td>47.643287</td>\n",
       "      <td>-122.368623</td>\n",
       "      <td>{'latitude': '47.64328713', 'longitude': '-122...</td>\n",
       "    </tr>\n",
       "  </tbody>\n",
       "</table>\n",
       "</div>"
      ],
      "text/plain": [
       "        Unnamed: 0    recordnum recordtype recordtypemapped  \\\n",
       "142753      142753  000106-20CP  Complaint          Request   \n",
       "142777      142777  000125-20CP  Complaint          Request   \n",
       "142834      142834  000167-20CP  Complaint          Request   \n",
       "142853      142853  000185-20CP  Complaint          Request   \n",
       "142900      142900  000225-20CP  Complaint          Request   \n",
       "\n",
       "                     recordtypedesc  \\\n",
       "142753              Vacant Building   \n",
       "142777                        Weeds   \n",
       "142834                     Land Use   \n",
       "142853  Emergency , Vacant Building   \n",
       "142900                        Weeds   \n",
       "\n",
       "                                              description    opendate  \\\n",
       "142753  Per Online; Building is vacant. The front door...  2020-01-01   \n",
       "142777  Pines trees overhanging low over sidewalk and ...  2020-01-02   \n",
       "142834  Per Online; This vacant lot has rubbish and ga...  2020-01-03   \n",
       "142853  Open to entry outdoor storage overgrown vegeta...  2020-01-06   \n",
       "142900  Lavender bushes are still covering 2/3 of the ...  2020-01-06   \n",
       "\n",
       "                                           inspectiondate lastinspresult  \\\n",
       "142753  {'type': 'Point', 'coordinates': [-122.2779773...      Completed   \n",
       "142777  {'type': 'Point', 'coordinates': [-122.4116831...      Completed   \n",
       "142834  {'type': 'Point', 'coordinates': [-122.3600084...            NaN   \n",
       "142853  {'type': 'Point', 'coordinates': [-122.3463936...      Completed   \n",
       "142900  {'type': 'Point', 'coordinates': [-122.3686227...            NaN   \n",
       "\n",
       "       statuscurrent   originaladdress1 originalcity originalstate  \\\n",
       "142753     Completed  7856 RENTON AVE S      SEATTLE            WA   \n",
       "142777     Completed    2802 43RD AVE W      SEATTLE            WA   \n",
       "142834     Completed   10547 2nd AVE NW          NaN           NaN   \n",
       "142853     Completed    8842 9TH AVE SW      SEATTLE            WA   \n",
       "142900     Completed     2602 9th AVE W          NaN           NaN   \n",
       "\n",
       "        originalzip                                               link  \\\n",
       "142753      98118.0  {'url': 'https://cosaccela.seattle.gov/portal/...   \n",
       "142777      98199.0  {'url': 'https://cosaccela.seattle.gov/portal/...   \n",
       "142834          NaN  {'url': 'https://cosaccela.seattle.gov/portal/...   \n",
       "142853      98106.0  {'url': 'https://cosaccela.seattle.gov/portal/...   \n",
       "142900          NaN  {'url': 'https://cosaccela.seattle.gov/portal/...   \n",
       "\n",
       "         latitude   longitude  \\\n",
       "142753  47.531858 -122.277977   \n",
       "142777  47.645180 -122.411683   \n",
       "142834  47.706473 -122.360008   \n",
       "142853  47.523409 -122.346394   \n",
       "142900  47.643287 -122.368623   \n",
       "\n",
       "                                                location1  \n",
       "142753  {'latitude': '47.53185787', 'longitude': '-122...  \n",
       "142777  {'latitude': '47.64518008', 'longitude': '-122...  \n",
       "142834  {'latitude': '47.70647282', 'longitude': '-122...  \n",
       "142853  {'latitude': '47.52340934', 'longitude': '-122...  \n",
       "142900  {'latitude': '47.64328713', 'longitude': '-122...  "
      ]
     },
     "execution_count": 18,
     "metadata": {},
     "output_type": "execute_result"
    }
   ],
   "source": [
    "keywords = ['weeds', 'vegetation', 'moss', 'overgrown', 'overgrowth', 'vines']\n",
    "regstring = '|'.join(keywords)\n",
    "keymask = y20Complaint['description'].str.contains(regstring, case = False, na=False) #remove case sensitivity and set all empty cells to false\n",
    "print(keymask.value_counts()) #find how many have our keywords\n",
    "typedescmask = y20Complaint['recordtypedesc']=='Weeds'\n",
    "print(typedescmask.value_counts()) #find how many have the 'Weeds' as their 'typedescmask'\n",
    "fy20 = y20Complaint[keymask | typedescmask] #selects only rows if either mask has a True\n",
    "print(fy20.shape)\n",
    "fy20.to_csv(\"vegcomplaints.csv\")\n",
    "fy20.head()"
   ]
  },
  {
   "cell_type": "markdown",
   "metadata": {},
   "source": [
    "We can now see we've further reduced our dataset from 12419 entries to 1850! Also, from the first few entries, we can see that while we have the entries marked 'Weeds' we are also including complaints about overgrowth from other categories also.\n",
    "\n",
    "Finally, after a less than easy time redicing information, we have all the information we want. Now we can start counting them by day and inserting those counts into a new dataframe."
   ]
  },
  {
   "cell_type": "code",
   "execution_count": 10,
   "metadata": {},
   "outputs": [
    {
     "data": {
      "text/html": [
       "<div>\n",
       "<style scoped>\n",
       "    .dataframe tbody tr th:only-of-type {\n",
       "        vertical-align: middle;\n",
       "    }\n",
       "\n",
       "    .dataframe tbody tr th {\n",
       "        vertical-align: top;\n",
       "    }\n",
       "\n",
       "    .dataframe thead th {\n",
       "        text-align: right;\n",
       "    }\n",
       "</style>\n",
       "<table border=\"1\" class=\"dataframe\">\n",
       "  <thead>\n",
       "    <tr style=\"text-align: right;\">\n",
       "      <th></th>\n",
       "      <th>dates</th>\n",
       "      <th>counts</th>\n",
       "    </tr>\n",
       "  </thead>\n",
       "  <tbody>\n",
       "    <tr>\n",
       "      <th>0</th>\n",
       "      <td>2020-01-01</td>\n",
       "      <td>1</td>\n",
       "    </tr>\n",
       "    <tr>\n",
       "      <th>1</th>\n",
       "      <td>2020-01-02</td>\n",
       "      <td>2</td>\n",
       "    </tr>\n",
       "    <tr>\n",
       "      <th>2</th>\n",
       "      <td>2020-01-03</td>\n",
       "      <td>3</td>\n",
       "    </tr>\n",
       "    <tr>\n",
       "      <th>3</th>\n",
       "      <td>2020-01-04</td>\n",
       "      <td>0</td>\n",
       "    </tr>\n",
       "    <tr>\n",
       "      <th>4</th>\n",
       "      <td>2020-01-05</td>\n",
       "      <td>0</td>\n",
       "    </tr>\n",
       "    <tr>\n",
       "      <th>5</th>\n",
       "      <td>2020-01-06</td>\n",
       "      <td>4</td>\n",
       "    </tr>\n",
       "    <tr>\n",
       "      <th>6</th>\n",
       "      <td>2020-01-07</td>\n",
       "      <td>2</td>\n",
       "    </tr>\n",
       "    <tr>\n",
       "      <th>7</th>\n",
       "      <td>2020-01-08</td>\n",
       "      <td>4</td>\n",
       "    </tr>\n",
       "    <tr>\n",
       "      <th>8</th>\n",
       "      <td>2020-01-09</td>\n",
       "      <td>10</td>\n",
       "    </tr>\n",
       "    <tr>\n",
       "      <th>9</th>\n",
       "      <td>2020-01-10</td>\n",
       "      <td>3</td>\n",
       "    </tr>\n",
       "  </tbody>\n",
       "</table>\n",
       "</div>"
      ],
      "text/plain": [
       "        dates  counts\n",
       "0  2020-01-01       1\n",
       "1  2020-01-02       2\n",
       "2  2020-01-03       3\n",
       "3  2020-01-04       0\n",
       "4  2020-01-05       0\n",
       "5  2020-01-06       4\n",
       "6  2020-01-07       2\n",
       "7  2020-01-08       4\n",
       "8  2020-01-09      10\n",
       "9  2020-01-10       3"
      ]
     },
     "execution_count": 10,
     "metadata": {},
     "output_type": "execute_result"
    }
   ],
   "source": [
    "import numpy as np #for arange\n",
    "\n",
    "fy20 = pd.read_csv(\"vegcomplaints.csv\")\n",
    "\n",
    "dates = pd.date_range(start='2020-01-01', end='2020-12-31').strftime('%Y-%m-%d') #builds an index for each day in the year\n",
    "days = np.arange(0,366)\n",
    "vegCounts = pd.DataFrame(data = dates,columns = ['dates']) #initialize dataframe with dates\n",
    "counts = []\n",
    "for x in days:\n",
    "    counts.append(len(fy20[fy20[\"opendate\"] == vegCounts.iloc[x,0]]))\n",
    "vegCounts['counts'] = counts\n",
    "vegCounts.head(10)\n",
    "\n"
   ]
  },
  {
   "cell_type": "markdown",
   "metadata": {},
   "source": [
    "We have our daily counts!\n",
    "Now, we want to separate two portions of our database for statistical analysis: winter and summer, separated along the solstices/equinoxes. \n",
    "We want:\n",
    "* average and std for winter (time from 1/1 to start of spring 3/19 and then start of winter 12/21 to 12/31)\n",
    "* avg and std for summer (time from start of summer 6/20 to start of fall 9/22)"
   ]
  },
  {
   "cell_type": "code",
   "execution_count": 11,
   "metadata": {},
   "outputs": [
    {
     "name": "stdout",
     "output_type": "stream",
     "text": [
      "3.4545454545454546 3.0958225130638377 7.340425531914893 5.167210914427612\n"
     ]
    }
   ],
   "source": [
    "winterC = vegCounts[\n",
    "    ((vegCounts['dates'] >= \"2020-01-01\") & (vegCounts['dates'] < \"2020-03-19\"))\n",
    "    |\n",
    "    ((vegCounts['dates'] >= \"2020-12-21\") & (vegCounts['dates'] < \"2020-12-31\"))]\n",
    "\n",
    "summerC = vegCounts[\n",
    "    (vegCounts['dates'] >= \"2020-06-20\") & (vegCounts['dates'] < \"2020-09-22\")]\n",
    "wN = len(winterC) #size\n",
    "sN = len(summerC)\n",
    "wAvg = winterC[\"counts\"].mean()\n",
    "wSTD = winterC[\"counts\"].std()\n",
    "sAvg = summerC[\"counts\"].mean()\n",
    "sSTD = summerC[\"counts\"].std()\n",
    "print(wAvg, wSTD, sAvg, sSTD)"
   ]
  },
  {
   "cell_type": "markdown",
   "metadata": {},
   "source": [
    "### Statistics\n",
    "\n",
    "** The following is an application of procedure 5.7.3, the unpaired $t$-test for the difference between two population means.\n",
    "\n",
    "We hypothesize that, in general, people are more likely to file complaints for vegetation-based issues in winter than during the summer. We have two samples, one being the amount of complaints in winter 2020 and the other in summer 2020. we are not analyzing information outside of 2020, only the subset of 2020. So, we will approach the problem as a two-sample unpaired t-test, with a significance level of 0.05. Unpaired because while they are both subsets of 2020, we are testing for summer and winter in general which are distinct periods.\n",
    "\n",
    "So, we form the following null and alternate hypotheses:\n",
    "$$\n",
    "H_{0}: \\mu _{w} = \\mu _{s} \\\\ \n",
    "H_{a}: \\mu _{w} < \\mu _{s}\n",
    "$$\n",
    "\n",
    "And find the following t-statistic\n",
    "$$\n",
    "t=\\frac{\\overline{x_{w}}-\\overline{x_{s}}}{\\sqrt{\\frac{s_{w}^{2}}{n_{w}}+\\frac{s_{s}^{2}}{n_{s}}}}\n",
    "$$\n",
    "\n",
    "with \n",
    "$$\n",
    "df=n_{w} + n_{s}-2\n",
    "$$\n",
    "\n",
    "where $\\overline{x_{i}}$, $s_{i}$, and $n_{i}$ are the mean, standard deviation, and sample size of the samples, respectively."
   ]
  },
  {
   "cell_type": "code",
   "execution_count": 12,
   "metadata": {},
   "outputs": [
    {
     "name": "stdout",
     "output_type": "stream",
     "text": [
      "-6.198958089732714 180\n"
     ]
    }
   ],
   "source": [
    "tstat = (wAvg - sAvg)/((wSTD**2 / wN) + (sSTD**2 / sN))**(0.5)\n",
    "df = wN + sN - 2\n",
    "print(tstat, df)"
   ]
  },
  {
   "cell_type": "markdown",
   "metadata": {},
   "source": [
    "With $t \\approx -6.198958$ and $df = 180$ we can plot the t-distribution and find our p-value."
   ]
  },
  {
   "cell_type": "code",
   "execution_count": 13,
   "metadata": {},
   "outputs": [
    {
     "data": {
      "image/png": "[encoded data removed]",
      "text/plain": [
       "<Figure size 432x288 with 1 Axes>"
      ]
     },
     "metadata": {
      "needs_background": "light"
     },
     "output_type": "display_data"
    },
    {
     "name": "stdout",
     "output_type": "stream",
     "text": [
      "2.4963214721085264e-09\n"
     ]
    }
   ],
   "source": [
    "import matplotlib.pyplot as plt\n",
    "import scipy.stats as st\n",
    "\n",
    "results = st.ttest_ind(winterC[\"counts\"], summerC[\"counts\"], equal_var=False, alternative='less')\n",
    "\n",
    "t_dist = st.t(180)\n",
    "t_x = np.linspace(-7,7,1000)\n",
    "pdf_vals = t_dist.pdf(t_x)\n",
    "plt.vlines(tstat, -0.025, 0.025, color = 'r', label='t = -6.198958')\n",
    "plt.fill_between(t_x, pdf_vals,0, where= t_x<=tstat, color='r')\n",
    "plt.plot(t_x, pdf_vals)\n",
    "#plt.plot(tstat, results.pvalue, marker=\"x\", markersize=20)\n",
    "plt.xlabel('t statistic')\n",
    "plt.title('PDF for t distribution with df=180')\n",
    "plt.legend()\n",
    "plt.show()\n",
    "\n",
    "print(results.pvalue)"
   ]
  },
  {
   "cell_type": "markdown",
   "metadata": {},
   "source": [
    "\n",
    "Maybe unsurprisingly, we found that our null hypothesis was immensely wrong. We had allowed ourselves a significance of $0.05$ to reject our result and we found $p\\approx2.5e$-$9$. We can say with confidence that Seattle complainers will, in general, be more likely to report their complaints with vegetation in the summer than in the winter."
   ]
  }
 ],
 "metadata": {
  "interpreter": {
   "hash": "3a85c988d5861e7ff6ba7d440363420b08a268cabf4e2ae659aa7fc3ccc327ed"
  },
  "kernelspec": {
   "display_name": "Python 3 (ipykernel)",
   "language": "python",
   "name": "python3"
  },
  "language_info": {
   "codemirror_mode": {
    "name": "ipython",
    "version": 3
   },
   "file_extension": ".py",
   "mimetype": "text/x-python",
   "name": "python",
   "nbconvert_exporter": "python",
   "pygments_lexer": "ipython3",
   "version": "3.10.4"
  }
 },
 "nbformat": 4,
 "nbformat_minor": 2
}
